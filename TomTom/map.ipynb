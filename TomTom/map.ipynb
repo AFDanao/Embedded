{
 "cells": [
  {
   "cell_type": "code",
   "execution_count": 1,
   "metadata": {},
   "outputs": [],
   "source": [
    "import sys\n",
    "import urllib.request\n",
    "import json\n",
    "\n",
    "apiKey = \"DfnN8Blh43zXpIAOYanoTd7Yy8n2pKU7\"\n",
    "zoom = \"16\"\n",
    "city = \"manila\"\n",
    "size = \"large\""
   ]
  },
  {
   "cell_type": "code",
   "execution_count": 2,
   "metadata": {},
   "outputs": [],
   "source": [
    "url = 'https://api.tomtom.com/search/2/search/'+city+'.json?idxSet=Geo&key='+apiKey\n",
    "\n",
    "req = urllib.request.urlopen(url)\n",
    "data = req.read().decode('utf-8')"
   ]
  },
  {
   "cell_type": "code",
   "execution_count": 3,
   "metadata": {},
   "outputs": [
    {
     "name": "stdout",
     "output_type": "stream",
     "text": [
      "Found City Center Of manila at {'lat': 14.582259, 'lon': 120.974804}\n"
     ]
    }
   ],
   "source": [
    "obj = json.loads(data)\n",
    "\n",
    "if (len(obj['results']) == 0):\n",
    "  print(\"City Not Found!\")\n",
    "  quit()\n",
    "\n",
    "print(f\"Found City Center Of {city} at {str(obj['results'][0]['position'])}\")\n",
    "\n",
    "lat = obj['results'][0]['position']['lat']+0.005\n",
    "lon = obj['results'][0]['position']['lon']+0.05\n",
    "\n",
    "lat = \"14.6128\"\n",
    "lon = \"120.9989\""
   ]
  },
  {
   "cell_type": "code",
   "execution_count": 4,
   "metadata": {},
   "outputs": [],
   "source": [
    "switcher = {\n",
    "  'small': '&width=256&height=256',\n",
    "  'medium': '&width=512&height=512',\n",
    "  'large' :'&width=1024&height=1024',\n",
    "}"
   ]
  },
  {
   "cell_type": "code",
   "execution_count": 5,
   "metadata": {},
   "outputs": [
    {
     "name": "stdout",
     "output_type": "stream",
     "text": [
      "https://api.tomtom.com/map/2/staticimage?layer=basic&style=main&format=png&zoom=16&center=120.9989,14.6128&width=1024&height=1024&key=DfnN8Blh43zXpIAOYanoTd7Yy8n2pKU7\n"
     ]
    }
   ],
   "source": [
    "urlStaticImage = f\"https://api.tomtom.com/map/2/staticimage?layer=basic&style=main&format=png&zoom={zoom}&center={str(lon)},{str(lat)}{switcher.get(size)}&key={apiKey}\"\n",
    "\n",
    "print(urlStaticImage)"
   ]
  }
 ],
 "metadata": {
  "kernelspec": {
   "display_name": "Python 3",
   "language": "python",
   "name": "python3"
  },
  "language_info": {
   "codemirror_mode": {
    "name": "ipython",
    "version": 3
   },
   "file_extension": ".py",
   "mimetype": "text/x-python",
   "name": "python",
   "nbconvert_exporter": "python",
   "pygments_lexer": "ipython3",
   "version": "3.11.9"
  }
 },
 "nbformat": 4,
 "nbformat_minor": 2
}
